{
 "cells": [
  {
   "cell_type": "markdown",
   "id": "32c40e70-5d4c-484b-ae0e-4fc0f122ee1a",
   "metadata": {},
   "source": [
    "<h1 align=\"center\">Cleaning and Preparing Places Data</h1>"
   ]
  },
  {
   "cell_type": "markdown",
   "id": "a3c7eb7c-85c1-4b5f-a06e-921b7f5bc21d",
   "metadata": {},
   "source": [
    "*******************************************************************************************************************************"
   ]
  },
  {
   "cell_type": "markdown",
   "id": "d2284642-f7b8-42e7-b7f4-e686e0966022",
   "metadata": {},
   "source": [
    "<h2>1. Introduction</h2>"
   ]
  },
  {
   "cell_type": "markdown",
   "id": "e3e885db-89d7-4894-aa99-ec7adf758df2",
   "metadata": {},
   "source": [
    "### Data Cleaning Overview\n",
    "\n",
    "In this project, data was collected using the `fetch_places.py` script from the Google Places API, focusing on places in Santo André and the surrounding areas. Due to the limitations in the API’s collection radius and number of requests, grid points were used as a strategy to cover the entire area. By dividing the region into a grid, the script systematically collected data from each point, ensuring broader coverage of the city and its surroundings. The data was then cleaned to prepare it for analysis. The key steps involved:\n",
    "\n",
    "- **Handling missing values**: Removed rows with missing ratings or review counts.\n",
    "- **Removing duplicates**: Eliminated duplicate entries based on the Place ID.\n",
    "- **Standardizing addresses**: Split and cleaned the address field into separate columns for street, neighborhood, and city.\n",
    "- **Excluding irrelevant places**: Filtered out places that didn’t match pet shop-related keywords.\n",
    "- **City filtering**: Optionally filtered the dataset to include only places in Santo André.\n",
    "\n",
    "These steps ensured the data is clean, accurate, and ready for further analysis."
   ]
  },
  {
   "cell_type": "markdown",
   "id": "c62e1ead-0fcf-4098-8dac-afe3829b954b",
   "metadata": {},
   "source": [
    "<h2>2. Initialization</h2>"
   ]
  },
  {
   "cell_type": "code",
   "execution_count": null,
   "id": "5a63ce46-5c6f-4c83-865c-74b12cea2a42",
   "metadata": {},
   "outputs": [],
   "source": [
    "# Library Imports\n",
    "import csv\n",
    "import pandas as pd\n",
    "import numpy as np\n",
    "import os\n",
    "import re"
   ]
  },
  {
   "cell_type": "code",
   "execution_count": null,
   "id": "23ef5e97-4acd-4e3b-9936-9cd937560479",
   "metadata": {},
   "outputs": [],
   "source": [
    "# Configures Pandas display settings: shows all columns in DataFrames and suppresses chained assignment warnings  \n",
    "pd.set_option(\"display.max_columns\", None)  \n",
    "pd.options.mode.chained_assignment = None  "
   ]
  },
  {
   "cell_type": "markdown",
   "id": "a9c432bd-bd28-4b65-a22f-1c2cb8716907",
   "metadata": {},
   "source": [
    "<h2>3. Load the Dataset</h2>"
   ]
  },
  {
   "cell_type": "code",
   "execution_count": null,
   "id": "f1c3d2df-26ee-455c-bddc-fd16314f9155",
   "metadata": {},
   "outputs": [],
   "source": [
    "PATH = os.path.abspath(os.path.join(\"..\", \"data\", \"raw\", \"places_raw.csv\"))"
   ]
  },
  {
   "cell_type": "code",
   "execution_count": null,
   "id": "6d119ef5-2e31-4efc-9307-34c5c6f7d1ee",
   "metadata": {},
   "outputs": [],
   "source": [
    "places_df = pd.read_csv(PATH, sep=\";\", header=0, encoding=\"utf-8\", dtype={\"Number of Reviews\": \"Int64\"})"
   ]
  },
  {
   "cell_type": "code",
   "execution_count": null,
   "id": "53619977-0c12-4805-a6f8-280dca305803",
   "metadata": {},
   "outputs": [],
   "source": [
    "places_df.shape"
   ]
  },
  {
   "cell_type": "code",
   "execution_count": null,
   "id": "76cf2a42-e4d2-4505-aa59-9c6e4187000e",
   "metadata": {},
   "outputs": [],
   "source": [
    "places_df.columns"
   ]
  },
  {
   "cell_type": "code",
   "execution_count": null,
   "id": "cce0a2fe-072e-4c53-b0b8-d56f3fbd9c93",
   "metadata": {},
   "outputs": [],
   "source": [
    "places_df.head(3)"
   ]
  },
  {
   "cell_type": "markdown",
   "id": "963a525b-8d5d-405a-8179-aaf469a144be",
   "metadata": {},
   "source": [
    "<h2>4. Data Cleaning</h2>"
   ]
  },
  {
   "cell_type": "markdown",
   "id": "51bb3f2d-e818-45a4-a93f-96557fe1ed6d",
   "metadata": {},
   "source": [
    "<h3>4.1 Address Splitting and Reorganization</h3>"
   ]
  },
  {
   "cell_type": "code",
   "execution_count": null,
   "id": "9fd5c016-0f48-47e6-9f07-204bbf4a2b26",
   "metadata": {},
   "outputs": [],
   "source": [
    "def split_address(address):\n",
    "    \"\"\"\n",
    "    Splits an address string into its components: street, neighborhood, and city.\n",
    "    \n",
    "    The function attempts to match several patterns:\n",
    "    \n",
    "    1. Full pattern: \"Street Name, Number - Neighborhood, City\"\n",
    "       - If matched, it extracts and combines the street name and number,\n",
    "         and then extracts the neighborhood and city.\n",
    "    \n",
    "    2. Alternative pattern: \"Street - Neighborhood, City\"\n",
    "       - If matched, it extracts the street, neighborhood, and city directly.\n",
    "    \n",
    "    3. If the address does not contain a dash but contains a comma,\n",
    "       it is assumed to be in the format \"Neighborhood, City\".\n",
    "       - In this case, the street is set to an empty string.\n",
    "    \n",
    "    If none of the above patterns match, the function returns the full address \n",
    "    in the 'Street' field and empty strings for 'Neighborhood' and 'City'.\n",
    "    \n",
    "    Parameters:\n",
    "        address (str): The address string to be split.\n",
    "    \n",
    "    Returns:\n",
    "        pd.Series: A Pandas Series with three elements:\n",
    "                   [street, neighborhood, city].\n",
    "    \"\"\"\n",
    "    address = str(address)\n",
    "    \n",
    "    # Full pattern: \"Street Name, Number - Neighborhood, City\"\n",
    "    match = re.match(r\"(.+), (\\d+) - (.+), (.+)\", address)\n",
    "    if match:\n",
    "        street = f\"{match.group(1)}, {match.group(2)}\"  # Combine street name and number\n",
    "        neighborhood = match.group(3)\n",
    "        city = match.group(4)\n",
    "        return pd.Series([street, neighborhood, city])\n",
    "    \n",
    "    # Alternative pattern: \"Street - Neighborhood, City\"\n",
    "    match_simple = re.match(r\"(.+?) - (.+), (.+)\", address)\n",
    "    if match_simple:\n",
    "        street = match_simple.group(1)\n",
    "        neighborhood = match_simple.group(2)\n",
    "        city = match_simple.group(3)\n",
    "        return pd.Series([street, neighborhood, city])\n",
    "    \n",
    "    # If no dash is present but a comma exists, assume format \"Neighborhood, City\"\n",
    "    if \" - \" not in address and \",\" in address:\n",
    "        parts = [part.strip() for part in address.split(\",\", 1)]\n",
    "        if len(parts) == 2:\n",
    "            neighborhood, city = parts\n",
    "            return pd.Series([\"\", neighborhood, city])\n",
    "    \n",
    "    # Fallback: return full address in 'Street' and empty 'Neighborhood' and 'City'\n",
    "    return pd.Series([address, \"\", \"\"])"
   ]
  },
  {
   "cell_type": "code",
   "execution_count": null,
   "id": "eebba533-6bbb-42bd-8ce9-427f1d9688af",
   "metadata": {},
   "outputs": [],
   "source": [
    "# Apply the function and create the new columns\n",
    "places_df[[\"Street\", \"Neighborhood\", \"City\"]] = places_df[\"Address\"].apply(split_address)"
   ]
  },
  {
   "cell_type": "code",
   "execution_count": null,
   "id": "7398a8a3-b377-4c74-8170-8ccb21db7e0c",
   "metadata": {},
   "outputs": [],
   "source": [
    "# Drop the original Address column\n",
    "places_df = places_df.drop(columns=[\"Address\"])"
   ]
  },
  {
   "cell_type": "code",
   "execution_count": null,
   "id": "d7c672d8-a48b-4b7e-a610-f0e35b79e64a",
   "metadata": {},
   "outputs": [],
   "source": [
    "# Define the order of the columns\n",
    "column_order = [\"Name\", \"Street\", \"Neighborhood\", \"City\"]\n",
    "\n",
    "# Add the remaining columns, excluding 'Name', 'Street', 'Neighborhood', and 'City'\n",
    "remaining_columns = [col for col in places_df.columns if col not in column_order]\n",
    "\n",
    "# Combine the defined columns with the remaining ones\n",
    "cols = column_order + remaining_columns\n",
    "\n",
    "# Reorder the DataFrame columns\n",
    "places_df = places_df[cols]"
   ]
  },
  {
   "cell_type": "code",
   "execution_count": null,
   "id": "8ecf76b8-3ce6-41ea-967d-218c472dd3f7",
   "metadata": {},
   "outputs": [],
   "source": [
    "places_df.head(5)"
   ]
  },
  {
   "cell_type": "code",
   "execution_count": null,
   "id": "5c468646-e271-4a34-a4ec-3785ab339d7e",
   "metadata": {},
   "outputs": [],
   "source": [
    "def check_empty_address_fields(df):\n",
    "    \"\"\"\n",
    "    Checks for rows where the 'Street', 'Neighborhood', or 'City' fields are empty or contain only whitespace.\n",
    "    \n",
    "    This function filters the DataFrame to find any rows with empty address fields and returns:\n",
    "      - count (int): The total number of such rows.\n",
    "      - sample (pd.DataFrame): A DataFrame containing the first 5 rows with empty address fields.\n",
    "    \n",
    "    Parameters:\n",
    "        df (pd.DataFrame): DataFrame containing the columns 'Street', 'Neighborhood', and 'City'.\n",
    "        \n",
    "    Returns:\n",
    "        tuple: A tuple (count, sample) where:\n",
    "            count (int): Number of rows with any empty address field.\n",
    "            sample (pd.DataFrame): The first 5 rows from the filtered DataFrame.\n",
    "    \"\"\"\n",
    "    # Create a mask to identify rows with empty or blank fields in 'Street', 'Neighborhood', or 'City'\n",
    "    mask = (\n",
    "        (df[\"Street\"].isnull() | (df[\"Street\"].str.strip() == \"\")) |\n",
    "        (df[\"Neighborhood\"].isnull() | (df[\"Neighborhood\"].str.strip() == \"\")) |\n",
    "        (df[\"City\"].isnull() | (df[\"City\"].str.strip() == \"\"))\n",
    "    )\n",
    "    \n",
    "    # Filter the DataFrame using the mask\n",
    "    empty_df = df[mask]\n",
    "    \n",
    "    # Count the number of rows with empty fields\n",
    "    count = empty_df.shape[0]\n",
    "    \n",
    "    # Get the first 5 rows of the filtered DataFrame as a sample\n",
    "    sample = empty_df.head(5)\n",
    "    \n",
    "    return count, sample"
   ]
  },
  {
   "cell_type": "code",
   "execution_count": null,
   "id": "3a365084-afb7-4fdd-9a5e-0cdd9f79cd0e",
   "metadata": {},
   "outputs": [],
   "source": [
    "# Call the function to check empty address fields in 'places_df'\n",
    "count, sample = check_empty_address_fields(places_df)"
   ]
  },
  {
   "cell_type": "code",
   "execution_count": null,
   "id": "1f97c77e-e406-4961-b315-8abfa92d89d2",
   "metadata": {},
   "outputs": [],
   "source": [
    "# Print the total number of rows with empty address fields\n",
    "print(f\"Total rows with empty address fields: {count}\")"
   ]
  },
  {
   "cell_type": "code",
   "execution_count": null,
   "id": "2588aaa1-ccc6-4276-b4e1-50d43298f32d",
   "metadata": {},
   "outputs": [],
   "source": [
    "# Display the first 5 rows with empty address fields\n",
    "sample"
   ]
  },
  {
   "cell_type": "markdown",
   "id": "5b074c25-49f9-45c8-9621-9299c15c07b0",
   "metadata": {},
   "source": [
    "<h3>4.2 Identifying and Removing Duplicate Places</h3>"
   ]
  },
  {
   "cell_type": "code",
   "execution_count": null,
   "id": "48e0ec4e-3e68-427c-a050-e64e778abc4b",
   "metadata": {},
   "outputs": [],
   "source": [
    "# Find duplicate places based on the 'Place ID' column\n",
    "duplicates = places_df[places_df.duplicated(subset=\"Place ID\", keep=\"first\")]"
   ]
  },
  {
   "cell_type": "code",
   "execution_count": null,
   "id": "660fa962-2f9c-41a6-910f-341adc7c8676",
   "metadata": {},
   "outputs": [],
   "source": [
    "# Count the number of duplicate places\n",
    "num_duplicates = duplicates.shape[0]\n",
    "print(f\"Number of duplicate places: {num_duplicates}\")"
   ]
  },
  {
   "cell_type": "code",
   "execution_count": null,
   "id": "3465cfee-7810-4eb1-ac93-56f94c1966d3",
   "metadata": {},
   "outputs": [],
   "source": [
    "# Remove duplicate places, keeping only the first occurrence based on 'Place ID'\n",
    "places_df.drop_duplicates(subset=\"Place ID\", inplace=True, keep=\"first\")"
   ]
  },
  {
   "cell_type": "markdown",
   "id": "41e130e7-7215-46bb-8643-3ac768143dee",
   "metadata": {},
   "source": [
    "<h3>4.3 Handling Missing Data</h3>"
   ]
  },
  {
   "cell_type": "code",
   "execution_count": null,
   "id": "745c97db-45de-41c5-af0c-34fa13822504",
   "metadata": {},
   "outputs": [],
   "source": [
    "# Count the missing values in each column\n",
    "places_df.isnull().sum()"
   ]
  },
  {
   "cell_type": "code",
   "execution_count": null,
   "id": "4fe8c71a-04fd-46ba-ae08-6dcbf61a2184",
   "metadata": {},
   "outputs": [],
   "source": [
    "# Remove places with missing 'Rating' or 'Number of Reviews'\n",
    "places_df.dropna(subset=[\"Rating\", \"Number of Reviews\"], inplace=True)"
   ]
  },
  {
   "cell_type": "markdown",
   "id": "2957a48f-6836-4782-90d0-077d642b108a",
   "metadata": {},
   "source": [
    "<h3>4.4 Standardizing Place Categories</h3>"
   ]
  },
  {
   "cell_type": "code",
   "execution_count": null,
   "id": "d24cca98-8d71-4cf9-b553-19e22d5e95ea",
   "metadata": {},
   "outputs": [],
   "source": [
    "# Count the occurrences of each place type in the DataFrame  \n",
    "places_df[\"Type\"].value_counts()  "
   ]
  },
  {
   "cell_type": "code",
   "execution_count": null,
   "id": "ba215fb6-67fa-4377-b64c-8082e69b1c35",
   "metadata": {},
   "outputs": [],
   "source": [
    "# Standardize place category names by mapping them to a consistent format\n",
    "category_mapping = {\n",
    "    \"Pet store\": \"pet_store\",\n",
    "    \"Veterinary care\": \"veterinary_care\"\n",
    "}\n",
    "places_df[\"Type\"] = places_df[\"Type\"].replace(category_mapping)"
   ]
  },
  {
   "cell_type": "markdown",
   "id": "a1dbe7a4-af46-405a-b494-6def890cdd37",
   "metadata": {},
   "source": [
    "<h3>4.5 Filtering and Saving Data for Santo André</h3>"
   ]
  },
  {
   "cell_type": "markdown",
   "id": "e5f16038-4361-44a8-87d1-4948c5d963b0",
   "metadata": {},
   "source": [
    "**Note:**  \n",
    "The following code filters the places to include only those in the city of \"Santo André\".  \n",
    "This code has not been executed yet, but it is available if needed in the future."
   ]
  },
  {
   "cell_type": "code",
   "execution_count": null,
   "id": "fc3c7d2e-5af0-40aa-b789-1545ff374ccb",
   "metadata": {},
   "outputs": [],
   "source": [
    "# Filter the DataFrame to include only places in the city of \"Santo André\"  \n",
    "places_df = places_df[places_df[\"City\"] == \"Santo André\"]  "
   ]
  },
  {
   "cell_type": "code",
   "execution_count": null,
   "id": "f2671696-6c05-4d9d-aafa-5fb6f05fd93f",
   "metadata": {},
   "outputs": [],
   "source": [
    "# Save the data to a CSV file\n",
    "places_df.to_csv(os.path.join(os.path.abspath(\"..\"), \"data/intermediate/places_filtered.csv\"), sep=\";\", index=False, encoding=\"utf-8\")"
   ]
  },
  {
   "cell_type": "markdown",
   "id": "6c414efd-aab5-48c0-885f-60723200e105",
   "metadata": {},
   "source": [
    "<h3>4.6 Filtering Non-Pet Shop Locations</h3>"
   ]
  },
  {
   "cell_type": "markdown",
   "id": "46ffa9e7-ea87-4656-8ef6-7e239c05207e",
   "metadata": {},
   "source": [
    "**Note:**  \n",
    "Manually review the excluded_places.csv file and keep only the places to be excluded."
   ]
  },
  {
   "cell_type": "code",
   "execution_count": null,
   "id": "388f33ed-7922-45f8-b463-019c17b0127f",
   "metadata": {},
   "outputs": [],
   "source": [
    "# List of keywords that typically appear in pet shop names\n",
    "petshop_keywords = [\"pet\", \"shop\", \"store\", \"veterinária\", \"vet\", \"animal\", \"animais\", \"dog\", \"cachorro\", \"cão\", \"cães\", \"cat\", \"gato\", \n",
    "                    \"grooming\", \"groomer\", \"banho\", \"tosa\", \"agropecuária\", \"avicultura\", \"pássaros\", \"aquário\", \"aquarismo\", \"aquarium\",\n",
    "                    \"peixes\", \"ornamental\", \"reef\", \"casa de racao\", \"ração\", \"rações\", \"bicho\", \"bichos\", \"bichinho\", \"pata\", \"patinhas\", \n",
    "                    \"puppy\", \"filhote\", \"criadouro\", \"focinho\", \"late\", \"mia\", \"miau\", \"zoo\", \"amigo\", \"toca\"]"
   ]
  },
  {
   "cell_type": "code",
   "execution_count": null,
   "id": "0ee9f4be-4bc8-4e9a-9110-a4299c6eec27",
   "metadata": {},
   "outputs": [],
   "source": [
    "# Filter locations that DO NOT contain pet shop-related keywords\n",
    "df_excluded = places_df[~places_df[\"Name\"].astype(str).apply(lambda x: any(p in x.lower() for p in petshop_keywords))]"
   ]
  },
  {
   "cell_type": "code",
   "execution_count": null,
   "id": "9d5699a8-38ef-4720-9d43-6f38f68c490e",
   "metadata": {},
   "outputs": [],
   "source": [
    "# Save the excluded locations to a CSV file\n",
    "df_excluded.to_csv(os.path.join(os.path.abspath(\"..\"), \"data/intermediate/excluded_places.csv\"), sep=\";\", index=False, encoding=\"utf-8\")"
   ]
  },
  {
   "cell_type": "markdown",
   "id": "740e72e3-399a-4b2f-bac0-678d4fb2674c",
   "metadata": {},
   "source": [
    "<h3>4.7 Excluding Incorrect Places from DataFrame</h3>"
   ]
  },
  {
   "cell_type": "code",
   "execution_count": null,
   "id": "7fbf0fb0-4389-4af9-a695-c500a52311df",
   "metadata": {},
   "outputs": [],
   "source": [
    "# Load the list of incorrect places from a CSV file  \n",
    "EXCLUDED_PLACES_PATH = os.path.abspath(os.path.join(\"..\", \"data\", \"intermediate\", \"excluded_places.csv\"))  \n",
    "excluded_places = pd.read_csv(EXCLUDED_PLACES_PATH, sep=\";\", header=0, encoding=\"utf-8\")[\"Place ID\"].tolist()"
   ]
  },
  {
   "cell_type": "code",
   "execution_count": null,
   "id": "088e4334-538b-4bbc-b2dc-c8eed1a87db9",
   "metadata": {},
   "outputs": [],
   "source": [
    "# Remove these places from the main DataFrame  \n",
    "places_df = places_df[~places_df[\"Place ID\"].isin(excluded_places)]  "
   ]
  },
  {
   "cell_type": "markdown",
   "id": "a6df6c31-fc8d-485a-8e47-b3ceea1189c1",
   "metadata": {},
   "source": [
    "<h2>5. Export Processed Data</h2>"
   ]
  },
  {
   "cell_type": "code",
   "execution_count": null,
   "id": "04ca6e75-9975-473b-bcaf-b77c7331f906",
   "metadata": {},
   "outputs": [],
   "source": [
    "# Save the data to a CSV file\n",
    "places_df.to_csv(os.path.join(os.path.abspath(\"..\"), \"data/processed/places_processed.csv\"), sep=\";\", index=False, encoding=\"utf-8\")"
   ]
  }
 ],
 "metadata": {
  "kernelspec": {
   "display_name": "Python 3 (ipykernel)",
   "language": "python",
   "name": "python3"
  },
  "language_info": {
   "codemirror_mode": {
    "name": "ipython",
    "version": 3
   },
   "file_extension": ".py",
   "mimetype": "text/x-python",
   "name": "python",
   "nbconvert_exporter": "python",
   "pygments_lexer": "ipython3",
   "version": "3.12.8"
  }
 },
 "nbformat": 4,
 "nbformat_minor": 5
}
